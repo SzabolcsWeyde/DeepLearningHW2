{
 "cells": [
  {
   "cell_type": "markdown",
   "id": "a85b5fa7",
   "metadata": {},
   "source": [
    "# 2022-09-15"
   ]
  },
  {
   "cell_type": "code",
   "execution_count": 3,
   "id": "e62bc970",
   "metadata": {},
   "outputs": [],
   "source": [
    "%matplotlib inline"
   ]
  },
  {
   "cell_type": "code",
   "execution_count": 4,
   "id": "39c8fc02",
   "metadata": {},
   "outputs": [],
   "source": [
    "import matplotlib.pyplot as plt"
   ]
  },
  {
   "cell_type": "code",
   "execution_count": 5,
   "id": "c374c7a9",
   "metadata": {},
   "outputs": [],
   "source": [
    "import numpy as np"
   ]
  },
  {
   "cell_type": "code",
   "execution_count": 6,
   "id": "5a5024b2",
   "metadata": {},
   "outputs": [
    {
     "name": "stdout",
     "output_type": "stream",
     "text": [
      "Requirement already satisfied: tensorboardX in c:\\users\\weysz\\anaconda3\\envs\\deeplearning\\lib\\site-packages (2.5.1)\n",
      "Requirement already satisfied: numpy in c:\\users\\weysz\\anaconda3\\envs\\deeplearning\\lib\\site-packages (from tensorboardX) (1.22.3)\n",
      "Requirement already satisfied: protobuf<=3.20.1,>=3.8.0 in c:\\users\\weysz\\anaconda3\\envs\\deeplearning\\lib\\site-packages (from tensorboardX) (3.20.1)\n"
     ]
    }
   ],
   "source": [
    "! pip install tensorboardX"
   ]
  },
  {
   "cell_type": "code",
   "execution_count": 7,
   "id": "5e477a36",
   "metadata": {},
   "outputs": [],
   "source": [
    "%load_ext tensorboard"
   ]
  },
  {
   "cell_type": "code",
   "execution_count": 8,
   "id": "83ca93d9",
   "metadata": {},
   "outputs": [],
   "source": [
    "from tensorboardX import SummaryWriter"
   ]
  },
  {
   "cell_type": "code",
   "execution_count": 9,
   "id": "0c7efa6b",
   "metadata": {},
   "outputs": [],
   "source": [
    "from datetime import datetime"
   ]
  },
  {
   "cell_type": "code",
   "execution_count": 10,
   "id": "0a345eff",
   "metadata": {},
   "outputs": [],
   "source": [
    "logdir = \"logs\""
   ]
  },
  {
   "cell_type": "code",
   "execution_count": 11,
   "id": "f458f2d5",
   "metadata": {},
   "outputs": [],
   "source": [
    "def activation(x):\n",
    "  return 1.0 / (1.0 + np.exp(-x))"
   ]
  },
  {
   "cell_type": "code",
   "execution_count": 12,
   "id": "112c9fb6",
   "metadata": {},
   "outputs": [],
   "source": [
    "def dactivation(x):\n",
    "  return np.exp(-x)/(1.0 + np.exp(-x))**2"
   ]
  },
  {
   "cell_type": "code",
   "execution_count": 13,
   "id": "987fc889",
   "metadata": {},
   "outputs": [],
   "source": [
    "#  (2,3,1)\n",
    "class MLP:\n",
    "\n",
    "  def __init__(self,*args):\n",
    "    np.random.seed(123)\n",
    "    self.shape = args\n",
    "    n = len(args)\n",
    "\n",
    "    self.layers= []\n",
    "\n",
    "    self.layers.append(np.ones(self.shape[0]+1))\n",
    "\n",
    "    for i in range (1,n):\n",
    "      self.layers.append(np.ones(self.shape[i]))\n",
    "\n",
    "    self.weights = []\n",
    "    for i in range(n-1):\n",
    "      self.weights.append(np.zeros((self.layers[i].size,self.layers[i+1].size)))\n",
    "\n",
    "    self.dw = [0,]*len(self.weights)\n",
    "\n",
    "    self.reset()\n",
    "\n",
    "  def reset(self):\n",
    "    for i in range(len(self.weights)):\n",
    "      Z = np.random.random((self.layers[i].size,self.layers[i+1].size))\n",
    "\n",
    "      self.weights[i][...] = (2*Z-1)*1\n",
    "\n",
    "  def propagate_forward(self,data):\n",
    "\n",
    "    self.layers[0][0:-1] = data\n",
    "    \n",
    "    for i in range(1,len(self.shape)):\n",
    "      s_i = np.dot(self.layers[i-1], self.weights[i-1])\n",
    "      self.layers[i][...] =  activation(s_i)\n",
    "    return self.layers[-1]\n",
    "  def propagate_backward(self,target,lrate=0.1):\n",
    "    deltas = []\n",
    "\n",
    "    derror = -(target-self.layers[-1])\n",
    "    \n",
    "    s_last = np.dot(self.layers[-2],self.weights[-1])\n",
    "    delta_last = derror *  dactivation(s_last)\n",
    "    deltas.append(delta_last)\n",
    "    \n",
    "    for i in range(len(self.shape)-2,0,-1):\n",
    "      s_i = np.dot(self.layers[i-1],self.weights[i-1])\n",
    "      delta_i = np.dot(deltas[0],self.weights[i].T)*dactivation(s_i)\n",
    "      deltas.insert(0,delta_i)\n",
    "\n",
    "    for i in range(len(self.weights)):\n",
    "      layer = np.atleast_2d(self.layers[i])\n",
    "      delta = np.atleast_2d(deltas[i])\n",
    "\n",
    "      dw = -lrate*np.dot(layer.T,delta)\n",
    "\n",
    "      self.weights[i]+=dw\n",
    "\n",
    "      self.dw[i]= dw\n",
    "    error = (target -  self.layers[-1])**2\n",
    "    return error.sum()\n",
    "\n",
    "from sklearn import preprocessing\n",
    "def learn(network,X,Y,valid_split,test_split,write,epochs=20,lrate=0.1):\n",
    "\n",
    "  nb_samples = len (Y)\n",
    "  X_train = X [0:int(nb_samples*(1-valid_split-test_split))]\n",
    "  Y_train = Y [0:int(nb_samples*(1-valid_split-test_split))]\n",
    "  X_valid = X [int(nb_samples*(1-valid_split-test_split)):int(nb_samples*(1-test_split))]\n",
    "  Y_valid = Y [int(nb_samples*(1-valid_split-test_split)):int(nb_samples*(1-test_split))]\n",
    "  X_test = X  [int(nb_samples*(1-test_split)):]\n",
    "  Y_test = Y  [int(nb_samples*(1-test_split)):]\n",
    "\n",
    "  scaler = preprocessing.StandardScaler().fit(X_train)\n",
    "  X_train = scaler.transform(X_train)\n",
    "  X_valid = scaler.transform(X_valid)\n",
    "  X_test = scaler.transform(X_test)\n",
    "\n",
    "  randperm = np.random.permutation(len(X_train))\n",
    "  X_train,Y_train = X_train[randperm],Y_train[randperm]\n",
    "\n",
    "  for i in range (epochs):\n",
    "    train_err = 0 \n",
    "    for k in range (X_train.shape[0]):\n",
    "      network.propagate_forward(X_train[k])\n",
    "      train_err +=network.propagate_backward(Y_train[k],lrate)\n",
    "    train_err /=X_train.shape[0]\n",
    "\n",
    "    valid_err = 0\n",
    "    o_valid = np.zeros(X_valid.shape[0])\n",
    "    for k in range(X_valid.shape[0]):\n",
    "      o_valid[k] = network.propagate_forward(X_valid[k])\n",
    "      valid_err += (o_valid[k]-Y_valid[k])**2\n",
    "    valid_err /=X_valid.shape[0]\n",
    "\n",
    "    write.add_scalar('train',scalar_value=train_err,global_step=i)\n",
    "    write.add_scalar('validation',scalar_value=valid_err,global_step=i)\n",
    "    print(\"{} epoch, train_err: {}, valid_err: {}\".format(i,train_err, valid_err))\n",
    "\n",
    "  print(\"TESZT\")\n",
    "  test_err = 0\n",
    "  o_test = np.zeros(X_test.shape[0])\n",
    "  for k in range(X_test.shape[0]):\n",
    "    o_test[k] = network.propagate_forward(X_test[k])\n",
    "    test_err += (o_test[k]-Y_test[k])**2\n",
    "  test_err /= X_test.shape[0]\n",
    "  print(test_err)               "
   ]
  },
  {
   "cell_type": "code",
   "execution_count": 14,
   "id": "4859ad3b",
   "metadata": {},
   "outputs": [],
   "source": [
    "network = MLP (2,10,1)"
   ]
  },
  {
   "cell_type": "code",
   "execution_count": 15,
   "id": "710536d1",
   "metadata": {},
   "outputs": [],
   "source": [
    "nb_samples=1000\n",
    "X = np.zeros((nb_samples,2))\n",
    "Y = np.zeros(nb_samples)\n",
    "for i in range(0,nb_samples,4):\n",
    "    noise = np.random.normal(0,1,8)\n",
    "    X[i], Y[i] = (-2+noise[0],-2+noise[1]), 0\n",
    "    X[i+1], Y[i+1] = (2+noise[2],-2+noise[3]), 1\n",
    "    X[i+2], Y[i+2] = (-2+noise[4],2+noise[5]), 1\n",
    "    X[i+3], Y[i+3] = (2+noise[6],2+noise[7]), 0"
   ]
  },
  {
   "cell_type": "code",
   "execution_count": 16,
   "id": "27c7278b",
   "metadata": {},
   "outputs": [
    {
     "name": "stdout",
     "output_type": "stream",
     "text": [
      "0 epoch, train_err: 0.24614314439761184, valid_err: 0.23784604654950872\n",
      "1 epoch, train_err: 0.2297025824522868, valid_err: 0.2211767844090273\n",
      "2 epoch, train_err: 0.20695727395811084, valid_err: 0.19340898826237177\n",
      "3 epoch, train_err: 0.17415096809613942, valid_err: 0.15847635538727112\n",
      "4 epoch, train_err: 0.13874775481191173, valid_err: 0.12667624882747902\n",
      "5 epoch, train_err: 0.10981930239183453, valid_err: 0.10346711821683872\n",
      "6 epoch, train_err: 0.08970630277330417, valid_err: 0.08786103487832059\n",
      "7 epoch, train_err: 0.0763555883214336, valid_err: 0.07733361232650038\n",
      "8 epoch, train_err: 0.06734767241493564, valid_err: 0.06998772032137736\n",
      "9 epoch, train_err: 0.061033865171153, valid_err: 0.06465801307469875\n",
      "10 epoch, train_err: 0.05642294582752031, valid_err: 0.06064978918367313\n",
      "11 epoch, train_err: 0.05292709294356913, valid_err: 0.057540681448743865\n",
      "12 epoch, train_err: 0.05018970754043007, valid_err: 0.05506522152980132\n",
      "13 epoch, train_err: 0.04798708867732972, valid_err: 0.05305060002673568\n",
      "14 epoch, train_err: 0.046173904089914626, valid_err: 0.05138053581203745\n",
      "15 epoch, train_err: 0.044652548066732516, valid_err: 0.0499743932291983\n",
      "16 epoch, train_err: 0.043355447156445334, valid_err: 0.04877472564827305\n",
      "17 epoch, train_err: 0.04223451998777812, valid_err: 0.04773960860709058\n",
      "18 epoch, train_err: 0.04125470130409357, valid_err: 0.046837779329531995\n",
      "19 epoch, train_err: 0.04038984498800343, valid_err: 0.04604547031277881\n",
      "20 epoch, train_err: 0.03962006121683461, valid_err: 0.04534429472026072\n",
      "21 epoch, train_err: 0.0389299425744552, valid_err: 0.04471980209812429\n",
      "22 epoch, train_err: 0.038307355630045135, valid_err: 0.04416047168686615\n",
      "23 epoch, train_err: 0.03774260086896862, valid_err: 0.04365699775255655\n",
      "24 epoch, train_err: 0.037227817843271296, valid_err: 0.043201773732828096\n",
      "25 epoch, train_err: 0.03675655682891004, valid_err: 0.04278851422055424\n",
      "26 epoch, train_err: 0.03632346558938465, valid_err: 0.0424119740887381\n",
      "27 epoch, train_err: 0.03592405701840421, valid_err: 0.04206773709384292\n",
      "28 epoch, train_err: 0.035554534459310484, valid_err: 0.04175205483857911\n",
      "29 epoch, train_err: 0.035211658715623, valid_err: 0.041461722680489234\n",
      "30 epoch, train_err: 0.03489264557620464, valid_err: 0.04119398304858718\n",
      "31 epoch, train_err: 0.03459508593641429, valid_err: 0.040946449305073226\n",
      "32 epoch, train_err: 0.034316882836875465, valid_err: 0.0407170451612329\n",
      "33 epoch, train_err: 0.03405620130297326, valid_err: 0.04050395598333687\n",
      "34 epoch, train_err: 0.03381142796987976, valid_err: 0.04030558927482347\n",
      "35 epoch, train_err: 0.03358113826372626, valid_err: 0.04012054230839786\n",
      "36 epoch, train_err: 0.033364069475584596, valid_err: 0.0399475753828193\n",
      "37 epoch, train_err: 0.03315909847630221, valid_err: 0.039785589547158114\n",
      "38 epoch, train_err: 0.032965223121668795, valid_err: 0.039633607907338206\n",
      "39 epoch, train_err: 0.03278154661995979, valid_err: 0.03949075983211762\n",
      "40 epoch, train_err: 0.032607264299455756, valid_err: 0.03935626752709621\n",
      "41 epoch, train_err: 0.03244165233755781, valid_err: 0.03922943455941304\n",
      "42 epoch, train_err: 0.03228405810671799, valid_err: 0.03910963600230503\n",
      "43 epoch, train_err: 0.032133891863551346, valid_err: 0.038996309934796504\n",
      "44 epoch, train_err: 0.03199061956200529, valid_err: 0.038888950082696126\n",
      "45 epoch, train_err: 0.031853756613549396, valid_err: 0.03878709942661521\n",
      "46 epoch, train_err: 0.03172286245011822, valid_err: 0.038690344633721285\n",
      "47 epoch, train_err: 0.03159753577127084, valid_err: 0.03859831119446169\n",
      "48 epoch, train_err: 0.03147741037741577, valid_err: 0.03851065916509197\n",
      "49 epoch, train_err: 0.03136215150723691, valid_err: 0.038427079432644534\n",
      "50 epoch, train_err: 0.03125145261058731, valid_err: 0.038347290431844\n",
      "51 epoch, train_err: 0.03114503249879487, valid_err: 0.0382710352540416\n",
      "52 epoch, train_err: 0.03104263282307182, valid_err: 0.038198079096995165\n",
      "53 epoch, train_err: 0.03094401583895335, valid_err: 0.03812820701162135\n",
      "54 epoch, train_err: 0.0308489624207027, valid_err: 0.038061221907981904\n",
      "55 epoch, train_err: 0.03075727029465813, valid_err: 0.03799694278794698\n",
      "56 epoch, train_err: 0.030668752464744726, valid_err: 0.037935203176378385\n",
      "57 epoch, train_err: 0.030583235806965797, valid_err: 0.03787584972643234\n",
      "58 epoch, train_err: 0.030500559812752865, valid_err: 0.03781874097779145\n",
      "59 epoch, train_err: 0.03042057546366478, valid_err: 0.037763746249399224\n",
      "60 epoch, train_err: 0.030343144222174472, valid_err: 0.0377107446506467\n",
      "61 epoch, train_err: 0.030268137125208417, valid_err: 0.037659624197010876\n",
      "62 epoch, train_err: 0.0301954339687731, valid_err: 0.03761028101792257\n",
      "63 epoch, train_err: 0.0301249225734427, valid_err: 0.037562618646174745\n",
      "64 epoch, train_err: 0.03005649812173212, valid_err: 0.037516547379518095\n",
      "65 epoch, train_err: 0.02999006255946536, valid_err: 0.037471983706246624\n",
      "66 epoch, train_err: 0.029925524054193856, valid_err: 0.03742884978758423\n",
      "67 epoch, train_err: 0.0298627965045421, valid_err: 0.03738707299055854\n",
      "68 epoch, train_err: 0.029801799095077998, valid_err: 0.037346585465811655\n",
      "69 epoch, train_err: 0.02974245589193185, valid_err: 0.03730732376546254\n",
      "70 epoch, train_err: 0.0296846954749381, valid_err: 0.03726922849671872\n",
      "71 epoch, train_err: 0.029628450602558785, valid_err: 0.037232244007438686\n",
      "72 epoch, train_err: 0.02957365790626305, valid_err: 0.037196318100293835\n",
      "73 epoch, train_err: 0.029520257611417872, valid_err: 0.03716140177256429\n",
      "74 epoch, train_err: 0.029468193282063296, valid_err: 0.037127448978943864\n",
      "75 epoch, train_err: 0.02941741158723794, valid_err: 0.037094416415028135\n",
      "76 epoch, train_err: 0.029367862086772202, valid_err: 0.03706226331941988\n",
      "77 epoch, train_err: 0.02931949703469012, valid_err: 0.03703095129261706\n",
      "78 epoch, train_err: 0.029272271198558904, valid_err: 0.03700044413104987\n",
      "79 epoch, train_err: 0.029226141693299026, valid_err: 0.036970707674811615\n",
      "80 epoch, train_err: 0.02918106782812431, valid_err: 0.03694170966778565\n",
      "81 epoch, train_err: 0.029137010965415044, valid_err: 0.036913419629007\n",
      "82 epoch, train_err: 0.02909393439045362, valid_err: 0.036885808734221426\n",
      "83 epoch, train_err: 0.02905180319105591, valid_err: 0.03685884970671238\n",
      "84 epoch, train_err: 0.02901058414623054, valid_err: 0.03683251671656089\n",
      "85 epoch, train_err: 0.02897024562308269, valid_err: 0.03680678528758884\n",
      "86 epoch, train_err: 0.028930757481256963, valid_err: 0.03678163221131315\n",
      "87 epoch, train_err: 0.02889209098427797, valid_err: 0.03675703546730114\n",
      "88 epoch, train_err: 0.028854218717215278, valid_err: 0.036732974149382\n",
      "89 epoch, train_err: 0.02881711451014568, valid_err: 0.03670942839721786\n",
      "90 epoch, train_err: 0.02878075336694183, valid_err: 0.036686379332788316\n",
      "91 epoch, train_err: 0.0287451113989552, valid_err: 0.036663809001383225\n",
      "92 epoch, train_err: 0.028710165763202476, valid_err: 0.03664170031673644\n",
      "93 epoch, train_err: 0.028675894604700436, valid_err: 0.03662003700996755\n",
      "94 epoch, train_err: 0.02864227700262523, valid_err: 0.036598803582028584\n",
      "95 epoch, train_err: 0.02860929292000045, valid_err: 0.0365779852593806\n",
      "96 epoch, train_err: 0.028576923156645024, valid_err: 0.036557567952648085\n",
      "97 epoch, train_err: 0.02854514930513486, valid_err: 0.03653753821802385\n",
      "98 epoch, train_err: 0.028513953709553327, valid_err: 0.036517883221214215\n",
      "99 epoch, train_err: 0.028483319426824433, valid_err: 0.03649859070373329\n",
      "TESZT\n",
      "0.018471787966945822\n"
     ]
    }
   ],
   "source": [
    "# a pontos időt lekérdezzük majd string-re alakítjuk\n",
    "now = datetime.now()\n",
    "date_time = now.strftime(\"%Y%m%d_%H-%M-%S\")\n",
    "writer = SummaryWriter(logdir+\"/\"+date_time, flush_secs=1)\n",
    "\n",
    "\n",
    "# Tanítás/Tesztelés indítása\n",
    "network.reset()\n",
    "valid_split = 0.2; test_split = 0.1\n",
    "learn(network, X, Y, valid_split, test_split, writer, 100)"
   ]
  },
  {
   "cell_type": "code",
   "execution_count": 17,
   "id": "4cb3a33e",
   "metadata": {},
   "outputs": [
    {
     "data": {
      "text/html": [
       "\n",
       "      <iframe id=\"tensorboard-frame-df80131e7af75bab\" width=\"100%\" height=\"800\" frameborder=\"0\">\n",
       "      </iframe>\n",
       "      <script>\n",
       "        (function() {\n",
       "          const frame = document.getElementById(\"tensorboard-frame-df80131e7af75bab\");\n",
       "          const url = new URL(\"/\", window.location);\n",
       "          const port = 6006;\n",
       "          if (port) {\n",
       "            url.port = port;\n",
       "          }\n",
       "          frame.src = url;\n",
       "        })();\n",
       "      </script>\n",
       "    "
      ],
      "text/plain": [
       "<IPython.core.display.HTML object>"
      ]
     },
     "metadata": {},
     "output_type": "display_data"
    }
   ],
   "source": [
    "%tensorboard --logdir logs"
   ]
  }
 ],
 "metadata": {
  "kernelspec": {
   "display_name": "Python 3 (ipykernel)",
   "language": "python",
   "name": "python3"
  },
  "language_info": {
   "codemirror_mode": {
    "name": "ipython",
    "version": 3
   },
   "file_extension": ".py",
   "mimetype": "text/x-python",
   "name": "python",
   "nbconvert_exporter": "python",
   "pygments_lexer": "ipython3",
   "version": "3.10.4"
  }
 },
 "nbformat": 4,
 "nbformat_minor": 5
}
