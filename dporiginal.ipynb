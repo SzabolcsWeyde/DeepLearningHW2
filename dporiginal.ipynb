{
 "cells": [
  {
   "cell_type": "markdown",
   "id": "a85b5fa7",
   "metadata": {},
   "source": [
    "# 2022-09-15"
   ]
  },
  {
   "cell_type": "code",
   "execution_count": null,
   "id": "e62bc970",
   "metadata": {},
   "outputs": [],
   "source": [
    "%matplotlib inline"
   ]
  },
  {
   "cell_type": "code",
   "execution_count": null,
   "id": "39c8fc02",
   "metadata": {},
   "outputs": [],
   "source": [
    "import matplotlib.pyplot as plt"
   ]
  },
  {
   "cell_type": "code",
   "execution_count": null,
   "id": "c374c7a9",
   "metadata": {},
   "outputs": [],
   "source": [
    "import numpy as np"
   ]
  },
  {
   "cell_type": "code",
   "execution_count": null,
   "id": "5a5024b2",
   "metadata": {},
   "outputs": [],
   "source": [
    "! pip install tensorboardX"
   ]
  },
  {
   "cell_type": "code",
   "execution_count": null,
   "id": "5e477a36",
   "metadata": {},
   "outputs": [],
   "source": [
    "%load_ext tensorboard"
   ]
  },
  {
   "cell_type": "code",
   "execution_count": null,
   "id": "83ca93d9",
   "metadata": {},
   "outputs": [],
   "source": [
    "from tensorboardX import SummaryWriter"
   ]
  },
  {
   "cell_type": "code",
   "execution_count": null,
   "id": "0c7efa6b",
   "metadata": {},
   "outputs": [],
   "source": [
    "from datetime import datetime"
   ]
  },
  {
   "cell_type": "code",
   "execution_count": null,
   "id": "0a345eff",
   "metadata": {},
   "outputs": [],
   "source": [
    "logdir = \"logs\""
   ]
  },
  {
   "cell_type": "code",
   "execution_count": null,
   "id": "f458f2d5",
   "metadata": {},
   "outputs": [],
   "source": [
    "def activation(x):\n",
    "  return 1.0 / (1.0 + np.exp(-x))"
   ]
  },
  {
   "cell_type": "code",
   "execution_count": null,
   "id": "112c9fb6",
   "metadata": {},
   "outputs": [],
   "source": [
    "def dactivation(x):\n",
    "  return np.exp(-x)/(1.0 + np.exp(-x))**2"
   ]
  },
  {
   "cell_type": "code",
   "execution_count": null,
   "id": "987fc889",
   "metadata": {},
   "outputs": [],
   "source": [
    "#  (2,3,1)\n",
    "class MLP:\n",
    "\n",
    "  def __init__(self,*args):\n",
    "    np.random.seed(123)\n",
    "    self.shape = args\n",
    "    n = len(args)\n",
    "\n",
    "    self.layers= []\n",
    "\n",
    "    self.layers.append(np.ones(self.shape[0]+1))\n",
    "\n",
    "    for i in range (1,n):\n",
    "      self.layers.append(np.ones(self.shape[i]))\n",
    "\n",
    "    self.weights = []\n",
    "    for i in range(n-1):\n",
    "      self.weights.append(np.zeros((self.layers[i].size,self.layers[i+1].size)))\n",
    "\n",
    "    self.dw = [0,]*len(self.weights)\n",
    "\n",
    "    self.reset()\n",
    "\n",
    "  def reset(self):\n",
    "    for i in range(len(self.weights)):\n",
    "      Z = np.random.random((self.layers[i].size,self.layers[i+1].size))\n",
    "\n",
    "      self.weights[i][...] = (2*Z-1)*1\n",
    "\n",
    "  def propagate_forward(self,data):\n",
    "\n",
    "    self.layers[0][0:-1] = data\n",
    "    \n",
    "    for i in range(1,len(self.shape)):\n",
    "      s_i = np.dot(self.layers[i-1], self.weights[i-1])\n",
    "      self.layers[i][...] =  activation(s_i)\n",
    "    return self.layers[-1]\n",
    "  def propagate_backward(self,target,lrate=0.1):\n",
    "    deltas = []\n",
    "\n",
    "    derror = -(target-self.layers[-1])\n",
    "    \n",
    "    s_last = np.dot(self.layers[-2],self.weights[-1])\n",
    "    delta_last = derror *  dactivation(s_last)\n",
    "    deltas.append(delta_last)\n",
    "    \n",
    "    for i in range(len(self.shape)-2,0,-1):\n",
    "      s_i = np.dot(self.layers[i-1],self.weights[i-1])\n",
    "      delta_i = np.dot(deltas[0],self.weights[i].T)*dactivation(s_i)\n",
    "      deltas.insert(0,delta_i)\n",
    "\n",
    "    for i in range(len(self.weights)):\n",
    "      layer = np.atleast_2d(self.layers[i])\n",
    "      delta = np.atleast_2d(deltas[i])\n",
    "\n",
    "      dw = -lrate*np.dot(layer.T,delta)\n",
    "\n",
    "      self.weights[i]+=dw\n",
    "\n",
    "      self.dw[i]= dw\n",
    "    error = (target -  self.layers[-1])**2\n",
    "    return error.sum()\n",
    "\n",
    "from sklearn import preprocessing\n",
    "def learn(network,X,Y,valid_split,test_split,write,epochs=20,lrate=0.1):\n",
    "\n",
    "  nb_samples = len (Y)\n",
    "  X_train = X [0:int(nb_samples*(1-valid_split-test_split))]\n",
    "  Y_train = Y [0:int(nb_samples*(1-valid_split-test_split))]\n",
    "  X_valid = X [int(nb_samples*(1-valid_split-test_split)):int(nb_samples*(1-test_split))]\n",
    "  Y_valid = Y [int(nb_samples*(1-valid_split-test_split)):int(nb_samples*(1-test_split))]\n",
    "  X_test = X  [int(nb_samples*(1-test_split)):]\n",
    "  Y_test = Y  [int(nb_samples*(1-test_split)):]\n",
    "\n",
    "  scaler = preprocessing.StandardScaler().fit(X_train)\n",
    "  X_train = scaler.transform(X_train)\n",
    "  X_valid = scaler.transform(X_valid)\n",
    "  X_test = scaler.transform(X_test)\n",
    "\n",
    "  randperm = np.random.permutation(len(X_train))\n",
    "  X_train,Y_train = X_train[randperm],Y_train[randperm]\n",
    "\n",
    "  for i in range (epochs):\n",
    "    train_err = 0 \n",
    "    for k in range (X_train.shape[0]):\n",
    "      network.propagate_forward(X_train[k])\n",
    "      train_err +=network.propagate_backward(Y_train[k],lrate)\n",
    "    train_err /=X_train.shape[0]\n",
    "\n",
    "    valid_err = 0\n",
    "    o_valid = np.zeros(X_valid.shape[0])\n",
    "    for k in range(X_valid.shape[0]):\n",
    "      o_valid[k] = network.propagate_forward(X_valid[k])\n",
    "      valid_err += (o_valid[k]-Y_valid[k])**2\n",
    "    valid_err /=X_valid.shape[0]\n",
    "\n",
    "    write.add_scalar('train',scalar_value=train_err,global_step=i)\n",
    "    write.add_scalar('validation',scalar_value=valid_err,global_step=i)\n",
    "    print(\"{} epoch, train_err: {}, valid_err: {}\".format(i,train_err, valid_err))\n",
    "\n",
    "  print(\"TESZT\")\n",
    "  test_err = 0\n",
    "  o_test = np.zeros(X_test.shape[0])\n",
    "  for k in range(X_test.shape[0]):\n",
    "    o_test[k] = network.propagate_forward(X_test[k])\n",
    "    test_err += (o_test[k]-Y_test[k])**2\n",
    "  test_err /= X_test.shape[0]\n",
    "  print(test_err)               "
   ]
  },
  {
   "cell_type": "code",
   "execution_count": null,
   "id": "4859ad3b",
   "metadata": {},
   "outputs": [],
   "source": [
    "network = MLP (2,10,1)"
   ]
  },
  {
   "cell_type": "code",
   "execution_count": null,
   "id": "710536d1",
   "metadata": {},
   "outputs": [],
   "source": [
    "nb_samples=1000\n",
    "X = np.zeros((nb_samples,2))\n",
    "Y = np.zeros(nb_samples)\n",
    "for i in range(0,nb_samples,4):\n",
    "    noise = np.random.normal(0,1,8)\n",
    "    X[i], Y[i] = (-2+noise[0],-2+noise[1]), 0\n",
    "    X[i+1], Y[i+1] = (2+noise[2],-2+noise[3]), 1\n",
    "    X[i+2], Y[i+2] = (-2+noise[4],2+noise[5]), 1\n",
    "    X[i+3], Y[i+3] = (2+noise[6],2+noise[7]), 0"
   ]
  },
  {
   "cell_type": "code",
   "execution_count": null,
   "id": "27c7278b",
   "metadata": {},
   "outputs": [],
   "source": [
    "# a pontos időt lekérdezzük majd string-re alakítjuk\n",
    "now = datetime.now()\n",
    "date_time = now.strftime(\"%Y%m%d_%H-%M-%S\")\n",
    "writer = SummaryWriter(logdir+\"/\"+date_time, flush_secs=1)\n",
    "\n",
    "\n",
    "# Tanítás/Tesztelés indítása\n",
    "network.reset()\n",
    "valid_split = 0.2; test_split = 0.1\n",
    "learn(network, X, Y, valid_split, test_split, writer, 100)"
   ]
  },
  {
   "cell_type": "code",
   "execution_count": null,
   "id": "4cb3a33e",
   "metadata": {},
   "outputs": [],
   "source": [
    "%tensorboard --logdir logs"
   ]
  }
 ],
 "metadata": {
  "kernelspec": {
   "display_name": "Python 3 (ipykernel)",
   "language": "python",
   "name": "python3"
  },
  "language_info": {
   "codemirror_mode": {
    "name": "ipython",
    "version": 3
   },
   "file_extension": ".py",
   "mimetype": "text/x-python",
   "name": "python",
   "nbconvert_exporter": "python",
   "pygments_lexer": "ipython3",
   "version": "3.10.4"
  }
 },
 "nbformat": 4,
 "nbformat_minor": 5
}
